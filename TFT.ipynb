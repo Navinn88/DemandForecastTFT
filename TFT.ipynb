{
 "cells": [
  {
   "cell_type": "code",
   "execution_count": null,
   "metadata": {},
   "outputs": [],
   "source": [
    "!pip install pandas"
   ]
  },
  {
   "cell_type": "code",
   "execution_count": 10,
   "metadata": {},
   "outputs": [
    {
     "name": "stdout",
     "output_type": "stream",
     "text": [
      "Collecting matplotlib\n",
      "  Using cached matplotlib-3.10.3-cp313-cp313-win_amd64.whl.metadata (11 kB)\n",
      "Collecting seaborn\n",
      "  Using cached seaborn-0.13.2-py3-none-any.whl.metadata (5.4 kB)\n",
      "Collecting contourpy>=1.0.1 (from matplotlib)\n",
      "  Downloading contourpy-1.3.2-cp313-cp313-win_amd64.whl.metadata (5.5 kB)\n",
      "Collecting cycler>=0.10 (from matplotlib)\n",
      "  Downloading cycler-0.12.1-py3-none-any.whl.metadata (3.8 kB)\n",
      "Collecting fonttools>=4.22.0 (from matplotlib)\n",
      "  Downloading fonttools-4.59.0-cp313-cp313-win_amd64.whl.metadata (110 kB)\n",
      "Collecting kiwisolver>=1.3.1 (from matplotlib)\n",
      "  Downloading kiwisolver-1.4.8-cp313-cp313-win_amd64.whl.metadata (6.3 kB)\n",
      "Requirement already satisfied: numpy>=1.23 in c:\\users\\harve\\desktop\\demand forecast\\.venv\\lib\\site-packages (from matplotlib) (2.3.1)\n",
      "Requirement already satisfied: packaging>=20.0 in c:\\users\\harve\\desktop\\demand forecast\\.venv\\lib\\site-packages (from matplotlib) (25.0)\n",
      "Collecting pillow>=8 (from matplotlib)\n",
      "  Using cached pillow-11.3.0-cp313-cp313-win_amd64.whl.metadata (9.2 kB)\n",
      "Collecting pyparsing>=2.3.1 (from matplotlib)\n",
      "  Using cached pyparsing-3.2.3-py3-none-any.whl.metadata (5.0 kB)\n",
      "Requirement already satisfied: python-dateutil>=2.7 in c:\\users\\harve\\desktop\\demand forecast\\.venv\\lib\\site-packages (from matplotlib) (2.9.0.post0)\n",
      "Requirement already satisfied: pandas>=1.2 in c:\\users\\harve\\desktop\\demand forecast\\.venv\\lib\\site-packages (from seaborn) (2.3.1)\n",
      "Requirement already satisfied: pytz>=2020.1 in c:\\users\\harve\\desktop\\demand forecast\\.venv\\lib\\site-packages (from pandas>=1.2->seaborn) (2025.2)\n",
      "Requirement already satisfied: tzdata>=2022.7 in c:\\users\\harve\\desktop\\demand forecast\\.venv\\lib\\site-packages (from pandas>=1.2->seaborn) (2025.2)\n",
      "Requirement already satisfied: six>=1.5 in c:\\users\\harve\\desktop\\demand forecast\\.venv\\lib\\site-packages (from python-dateutil>=2.7->matplotlib) (1.17.0)\n",
      "Downloading matplotlib-3.10.3-cp313-cp313-win_amd64.whl (8.1 MB)\n",
      "   ---------------------------------------- 0.0/8.1 MB ? eta -:--:--\n",
      "   ---------------------------------------- 8.1/8.1 MB 45.3 MB/s eta 0:00:00\n",
      "Downloading seaborn-0.13.2-py3-none-any.whl (294 kB)\n",
      "Downloading contourpy-1.3.2-cp313-cp313-win_amd64.whl (223 kB)\n",
      "Downloading cycler-0.12.1-py3-none-any.whl (8.3 kB)\n",
      "Downloading fonttools-4.59.0-cp313-cp313-win_amd64.whl (2.2 MB)\n",
      "   ---------------------------------------- 0.0/2.2 MB ? eta -:--:--\n",
      "   ---------------------------------------- 2.2/2.2 MB 45.0 MB/s eta 0:00:00\n",
      "Downloading kiwisolver-1.4.8-cp313-cp313-win_amd64.whl (71 kB)\n",
      "Downloading pillow-11.3.0-cp313-cp313-win_amd64.whl (7.0 MB)\n",
      "   ---------------------------------------- 0.0/7.0 MB ? eta -:--:--\n",
      "   ---------------------------------------- 7.0/7.0 MB 55.9 MB/s eta 0:00:00\n",
      "Using cached pyparsing-3.2.3-py3-none-any.whl (111 kB)\n",
      "Installing collected packages: pyparsing, pillow, kiwisolver, fonttools, cycler, contourpy, matplotlib, seaborn\n",
      "\n",
      "   ---------------------------------------- 0/8 [pyparsing]\n",
      "   ----- ---------------------------------- 1/8 [pillow]\n",
      "   ----- ---------------------------------- 1/8 [pillow]\n",
      "   ----- ---------------------------------- 1/8 [pillow]\n",
      "   --------------- ------------------------ 3/8 [fonttools]\n",
      "   --------------- ------------------------ 3/8 [fonttools]\n",
      "   --------------- ------------------------ 3/8 [fonttools]\n",
      "   --------------- ------------------------ 3/8 [fonttools]\n",
      "   --------------- ------------------------ 3/8 [fonttools]\n",
      "   --------------- ------------------------ 3/8 [fonttools]\n",
      "   --------------- ------------------------ 3/8 [fonttools]\n",
      "   --------------- ------------------------ 3/8 [fonttools]\n",
      "   --------------- ------------------------ 3/8 [fonttools]\n",
      "   --------------- ------------------------ 3/8 [fonttools]\n",
      "   --------------- ------------------------ 3/8 [fonttools]\n",
      "   --------------- ------------------------ 3/8 [fonttools]\n",
      "   --------------- ------------------------ 3/8 [fonttools]\n",
      "   --------------- ------------------------ 3/8 [fonttools]\n",
      "   --------------- ------------------------ 3/8 [fonttools]\n",
      "   ------------------------------ --------- 6/8 [matplotlib]\n",
      "   ------------------------------ --------- 6/8 [matplotlib]\n",
      "   ------------------------------ --------- 6/8 [matplotlib]\n",
      "   ------------------------------ --------- 6/8 [matplotlib]\n",
      "   ------------------------------ --------- 6/8 [matplotlib]\n",
      "   ------------------------------ --------- 6/8 [matplotlib]\n",
      "   ------------------------------ --------- 6/8 [matplotlib]\n",
      "   ------------------------------ --------- 6/8 [matplotlib]\n",
      "   ------------------------------ --------- 6/8 [matplotlib]\n",
      "   ------------------------------ --------- 6/8 [matplotlib]\n",
      "   ------------------------------ --------- 6/8 [matplotlib]\n",
      "   ------------------------------ --------- 6/8 [matplotlib]\n",
      "   ------------------------------ --------- 6/8 [matplotlib]\n",
      "   ------------------------------ --------- 6/8 [matplotlib]\n",
      "   ------------------------------ --------- 6/8 [matplotlib]\n",
      "   ------------------------------ --------- 6/8 [matplotlib]\n",
      "   ----------------------------------- ---- 7/8 [seaborn]\n",
      "   ----------------------------------- ---- 7/8 [seaborn]\n",
      "   ---------------------------------------- 8/8 [seaborn]\n",
      "\n",
      "Successfully installed contourpy-1.3.2 cycler-0.12.1 fonttools-4.59.0 kiwisolver-1.4.8 matplotlib-3.10.3 pillow-11.3.0 pyparsing-3.2.3 seaborn-0.13.2\n"
     ]
    }
   ],
   "source": [
    "!pip install matplotlib seaborn"
   ]
  },
  {
   "cell_type": "code",
   "execution_count": 6,
   "metadata": {},
   "outputs": [],
   "source": [
    "import pandas as pd"
   ]
  },
  {
   "cell_type": "code",
   "execution_count": 7,
   "metadata": {},
   "outputs": [
    {
     "name": "stderr",
     "output_type": "stream",
     "text": [
      "C:\\Users\\Harve\\AppData\\Local\\Temp\\ipykernel_1620\\1655350806.py:4: DtypeWarning: Columns (5) have mixed types. Specify dtype option on import or set low_memory=False.\n",
      "  train = pd.read_csv(\"train.csv\", parse_dates=[\"date\"])\n"
     ]
    },
    {
     "name": "stdout",
     "output_type": "stream",
     "text": [
      "train: (125497040, 6)\n",
      "test: (3370464, 5)\n",
      "items: (4100, 4)\n",
      "stores: (54, 5)\n",
      "transactions: (83488, 3)\n",
      "oil: (1218, 2)\n",
      "holidays: (350, 6)\n"
     ]
    }
   ],
   "source": [
    "import pandas as pd\n",
    "\n",
    "# Load train and test data (parse dates)\n",
    "train = pd.read_csv(\"train.csv\", parse_dates=[\"date\"])\n",
    "test = pd.read_csv(\"test.csv\", parse_dates=[\"date\"])\n",
    "\n",
    "# Load items and stores metadata\n",
    "items = pd.read_csv(\"items.csv\")\n",
    "stores = pd.read_csv(\"stores.csv\")\n",
    "\n",
    "# Load transactions, oil, and holidays (parse dates)\n",
    "transactions = pd.read_csv(\"transactions.csv\", parse_dates=[\"date\"])\n",
    "oil = pd.read_csv(\"oil.csv\", parse_dates=[\"date\"])\n",
    "holidays = pd.read_csv(\"holidays_events.csv\", parse_dates=[\"date\"])\n",
    "\n",
    "# Quick check\n",
    "print(\"train:\", train.shape)\n",
    "print(\"test:\", test.shape)\n",
    "print(\"items:\", items.shape)\n",
    "print(\"stores:\", stores.shape)\n",
    "print(\"transactions:\", transactions.shape)\n",
    "print(\"oil:\", oil.shape)\n",
    "print(\"holidays:\", holidays.shape)"
   ]
  },
  {
   "cell_type": "code",
   "execution_count": 8,
   "metadata": {},
   "outputs": [
    {
     "name": "stdout",
     "output_type": "stream",
     "text": [
      "train columns: ['id', 'date', 'store_nbr', 'item_nbr', 'unit_sales', 'onpromotion']\n",
      "test columns: ['id', 'date', 'store_nbr', 'item_nbr', 'onpromotion']\n",
      "items columns: ['item_nbr', 'family', 'class', 'perishable']\n",
      "stores columns: ['store_nbr', 'city', 'state', 'type', 'cluster']\n",
      "transactions columns: ['date', 'store_nbr', 'transactions']\n",
      "oil columns: ['date', 'dcoilwtico']\n",
      "holidays columns: ['date', 'type', 'locale', 'locale_name', 'description', 'transferred']\n"
     ]
    }
   ],
   "source": [
    "import pandas as pd\n",
    "\n",
    "# List of (filename, variable name)\n",
    "csv_files = [\n",
    "    (\"train.csv\", \"train\"),\n",
    "    (\"test.csv\", \"test\"),\n",
    "    (\"items.csv\", \"items\"),\n",
    "    (\"stores.csv\", \"stores\"),\n",
    "    (\"transactions.csv\", \"transactions\"),\n",
    "    (\"oil.csv\", \"oil\"),\n",
    "    (\"holidays_events.csv\", \"holidays\")\n",
    "]\n",
    "\n",
    "for fname, var in csv_files:\n",
    "    try:\n",
    "        # Try to parse 'date' if present in the file\n",
    "        if fname in [\"train.csv\", \"test.csv\", \"transactions.csv\", \"oil.csv\", \"holidays_events.csv\"]:\n",
    "            df = pd.read_csv(fname, nrows=5, parse_dates=[\"date\"])\n",
    "        else:\n",
    "            df = pd.read_csv(fname, nrows=5)\n",
    "        print(f\"{var} columns: {list(df.columns)}\")\n",
    "    except Exception as e:\n",
    "        print(f\"Could not read {fname}: {e}\")"
   ]
  },
  {
   "cell_type": "code",
   "execution_count": null,
   "metadata": {},
   "outputs": [
    {
     "data": {
      "text/plain": [
       "np.float64(1251436.312682927)"
      ]
     },
     "execution_count": 28,
     "metadata": {},
     "output_type": "execute_result"
    }
   ],
   "source": []
  },
  {
   "cell_type": "code",
   "execution_count": null,
   "metadata": {},
   "outputs": [],
   "source": []
  }
 ],
 "metadata": {
  "kernelspec": {
   "display_name": ".venv",
   "language": "python",
   "name": "python3"
  },
  "language_info": {
   "codemirror_mode": {
    "name": "ipython",
    "version": 3
   },
   "file_extension": ".py",
   "mimetype": "text/x-python",
   "name": "python",
   "nbconvert_exporter": "python",
   "pygments_lexer": "ipython3",
   "version": "3.13.3"
  }
 },
 "nbformat": 4,
 "nbformat_minor": 2
}
